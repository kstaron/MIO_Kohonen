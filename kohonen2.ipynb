{
 "cells": [
  {
   "cell_type": "code",
   "execution_count": 1,
   "metadata": {},
   "outputs": [],
   "source": [
    "import numpy as np\n",
    "import pandas as pd\n",
    "import math\n",
    "from matplotlib import pyplot as plt\n",
    "from mpl_toolkits.mplot3d import Axes3D\n",
    "from sklearn.metrics import homogeneity_score\n",
    "from sklearn.metrics import completeness_score"
   ]
  },
  {
   "cell_type": "code",
   "execution_count": 2,
   "metadata": {},
   "outputs": [],
   "source": [
    "\n",
    "def gauss(x, t):\n",
    "    return np.exp(-(t*x)**2)\n",
    "\n",
    "def mexican_hat(x, t):\n",
    "    return abs((2 - 4*(x*t)**2)*np.exp(-(x*t)**2))"
   ]
  },
  {
   "cell_type": "code",
   "execution_count": 3,
   "metadata": {},
   "outputs": [],
   "source": [
    "class kohonen:\n",
    "    def __init__(self, N, M, data, width, theta = gauss, grid = 'square'):\n",
    "        self.N = N #wymiary sieci\n",
    "        self.M = M\n",
    "        self.data = data #zbior danych\n",
    "        self.neurons = np.random.uniform(np.min(data), np.max(data), size=(M*N, data.shape[1])) #inicjowanie wag pokrywających zbiór data\n",
    "        self.width = width #szerokosc sasiedztwa\n",
    "        self.theta = theta #funkcja sąsiedztwa\n",
    "        self.iter = 0 #odbyte iteracje uczenia, pamiętanie iteracji\n",
    "        self.grid = grid #architektura siatki\n",
    "        \n",
    "    def dist(self, x, y):\n",
    "        if self.grid == 'square':\n",
    "            return self.width*math.sqrt((x%self.N - y%self.N)**2 + (math.floor(x/self.N) - math.floor(y/self.N))**2)\n",
    "        if self.grid == 'hex':\n",
    "            return self.width*math.sqrt((x%self.N - y%self.N)**2 + (math.floor(x/self.N) - math.floor(y/self.N)*math.sqrt(3)/2)**2)\n",
    "    \n",
    "    def alpha(self, t, lambda_):\n",
    "        return np.exp(-t/lambda_)\n",
    "    \n",
    "    def train(self, lambda_):\n",
    "        \n",
    "        for t in range(lambda_):\n",
    "            perm = np.random.permutation(self.data.shape[0])\n",
    "            for x in self.data[perm]:\n",
    "                closest_neuron_index = np.argmin([np.linalg.norm(x - neuron) for neuron in self.neurons])\n",
    "                for i, neuron in enumerate(self.neurons):\n",
    "                    self.neurons[i] += self.theta(self.dist(closest_neuron_index, i), self.iter + t)*self.alpha(self.iter + t, self.iter + lambda_)*(x - neuron)\n",
    "        self.iter += lambda_\n",
    "    \n",
    "\n",
    "    def classification(self):\n",
    "        return [np.argmin([np.linalg.norm(neuron - x) for neuron in self.neurons]) for x in self.data]\n",
    "    \n",
    "    \n",
    "    def set_nodes(self, n): #naiwny clustering wytrenowanych neuronów\n",
    "        while (len(self.neurons) > n):\n",
    "            dist = np.array([np.linalg.norm(n1 - n2) for n1 in self.neurons for n2 in self.neurons])\n",
    "            dist = dist[dist != 0]\n",
    "            clustered_neuron = np.unravel_index(dist.argmin(), (len(self.neurons), len(self.neurons) - 1))[0]\n",
    "            self.neurons = np.delete(self.neurons, clustered_neuron, 0)\n",
    "    "
   ]
  },
  {
   "cell_type": "code",
   "execution_count": null,
   "metadata": {},
   "outputs": [],
   "source": []
  },
  {
   "cell_type": "code",
   "execution_count": null,
   "metadata": {},
   "outputs": [],
   "source": []
  },
  {
   "cell_type": "code",
   "execution_count": 4,
   "metadata": {},
   "outputs": [],
   "source": [
    "d = pd.read_csv('./mnist.csv')"
   ]
  },
  {
   "cell_type": "code",
   "execution_count": 41,
   "metadata": {},
   "outputs": [],
   "source": [
    "x = np.asarray(d.iloc[0:500,1:785])"
   ]
  },
  {
   "cell_type": "code",
   "execution_count": 42,
   "metadata": {},
   "outputs": [
    {
     "data": {
      "text/plain": [
       "(500, 784)"
      ]
     },
     "execution_count": 42,
     "metadata": {},
     "output_type": "execute_result"
    }
   ],
   "source": [
    "x.shape"
   ]
  },
  {
   "cell_type": "code",
   "execution_count": 16,
   "metadata": {},
   "outputs": [
    {
     "data": {
      "text/html": [
       "<div>\n",
       "<style scoped>\n",
       "    .dataframe tbody tr th:only-of-type {\n",
       "        vertical-align: middle;\n",
       "    }\n",
       "\n",
       "    .dataframe tbody tr th {\n",
       "        vertical-align: top;\n",
       "    }\n",
       "\n",
       "    .dataframe thead th {\n",
       "        text-align: right;\n",
       "    }\n",
       "</style>\n",
       "<table border=\"1\" class=\"dataframe\">\n",
       "  <thead>\n",
       "    <tr style=\"text-align: right;\">\n",
       "      <th></th>\n",
       "      <th>x</th>\n",
       "      <th>y</th>\n",
       "      <th>c</th>\n",
       "    </tr>\n",
       "  </thead>\n",
       "  <tbody>\n",
       "    <tr>\n",
       "      <th>0</th>\n",
       "      <td>2.402047</td>\n",
       "      <td>3.728695</td>\n",
       "      <td>1</td>\n",
       "    </tr>\n",
       "    <tr>\n",
       "      <th>1</th>\n",
       "      <td>-0.660032</td>\n",
       "      <td>7.047206</td>\n",
       "      <td>0</td>\n",
       "    </tr>\n",
       "    <tr>\n",
       "      <th>2</th>\n",
       "      <td>2.202839</td>\n",
       "      <td>-2.394303</td>\n",
       "      <td>2</td>\n",
       "    </tr>\n",
       "    <tr>\n",
       "      <th>3</th>\n",
       "      <td>3.179183</td>\n",
       "      <td>2.593885</td>\n",
       "      <td>1</td>\n",
       "    </tr>\n",
       "    <tr>\n",
       "      <th>4</th>\n",
       "      <td>3.173320</td>\n",
       "      <td>-2.152688</td>\n",
       "      <td>2</td>\n",
       "    </tr>\n",
       "    <tr>\n",
       "      <th>...</th>\n",
       "      <td>...</td>\n",
       "      <td>...</td>\n",
       "      <td>...</td>\n",
       "    </tr>\n",
       "    <tr>\n",
       "      <th>595</th>\n",
       "      <td>-2.186246</td>\n",
       "      <td>-4.059754</td>\n",
       "      <td>4</td>\n",
       "    </tr>\n",
       "    <tr>\n",
       "      <th>596</th>\n",
       "      <td>4.089715</td>\n",
       "      <td>-2.879358</td>\n",
       "      <td>2</td>\n",
       "    </tr>\n",
       "    <tr>\n",
       "      <th>597</th>\n",
       "      <td>-3.014489</td>\n",
       "      <td>-2.824257</td>\n",
       "      <td>4</td>\n",
       "    </tr>\n",
       "    <tr>\n",
       "      <th>598</th>\n",
       "      <td>3.746346</td>\n",
       "      <td>3.001876</td>\n",
       "      <td>1</td>\n",
       "    </tr>\n",
       "    <tr>\n",
       "      <th>599</th>\n",
       "      <td>-0.434860</td>\n",
       "      <td>-5.911340</td>\n",
       "      <td>3</td>\n",
       "    </tr>\n",
       "  </tbody>\n",
       "</table>\n",
       "<p>600 rows × 3 columns</p>\n",
       "</div>"
      ],
      "text/plain": [
       "            x         y  c\n",
       "0    2.402047  3.728695  1\n",
       "1   -0.660032  7.047206  0\n",
       "2    2.202839 -2.394303  2\n",
       "3    3.179183  2.593885  1\n",
       "4    3.173320 -2.152688  2\n",
       "..        ...       ... ..\n",
       "595 -2.186246 -4.059754  4\n",
       "596  4.089715 -2.879358  2\n",
       "597 -3.014489 -2.824257  4\n",
       "598  3.746346  3.001876  1\n",
       "599 -0.434860 -5.911340  3\n",
       "\n",
       "[600 rows x 3 columns]"
      ]
     },
     "execution_count": 16,
     "metadata": {},
     "output_type": "execute_result"
    }
   ],
   "source": [
    "data1"
   ]
  },
  {
   "cell_type": "code",
   "execution_count": 135,
   "metadata": {},
   "outputs": [],
   "source": [
    "nn = kohonen(4, 4, x, 1)\n",
    "nn.train(10)"
   ]
  },
  {
   "cell_type": "code",
   "execution_count": 136,
   "metadata": {},
   "outputs": [],
   "source": [
    "nn.train(10)"
   ]
  },
  {
   "cell_type": "code",
   "execution_count": 139,
   "metadata": {},
   "outputs": [],
   "source": [
    "nn.set_nodes(10)\n",
    "c = nn.classification()"
   ]
  },
  {
   "cell_type": "code",
   "execution_count": 140,
   "metadata": {},
   "outputs": [
    {
     "data": {
      "text/plain": [
       "0.3514465013038948"
      ]
     },
     "execution_count": 140,
     "metadata": {},
     "output_type": "execute_result"
    }
   ],
   "source": [
    "homogeneity_score(d['label'].iloc[0:500], c)"
   ]
  },
  {
   "cell_type": "code",
   "execution_count": 142,
   "metadata": {},
   "outputs": [
    {
     "data": {
      "text/plain": [
       "0.39781205056877744"
      ]
     },
     "execution_count": 142,
     "metadata": {},
     "output_type": "execute_result"
    }
   ],
   "source": [
    "completeness_score(d['label'].iloc[0:500], c)"
   ]
  },
  {
   "cell_type": "code",
   "execution_count": 18,
   "metadata": {},
   "outputs": [
    {
     "data": {
      "text/plain": [
       "0     1\n",
       "1     0\n",
       "2     1\n",
       "3     4\n",
       "4     0\n",
       "     ..\n",
       "95    9\n",
       "96    1\n",
       "97    2\n",
       "98    0\n",
       "99    5\n",
       "Name: label, Length: 100, dtype: int64"
      ]
     },
     "execution_count": 18,
     "metadata": {},
     "output_type": "execute_result"
    }
   ],
   "source": [
    "d['label'].iloc[0:100]"
   ]
  },
  {
   "cell_type": "code",
   "execution_count": 152,
   "metadata": {},
   "outputs": [
    {
     "name": "stdout",
     "output_type": "stream",
     "text": [
      "Wall time: 13.1 s\n"
     ]
    }
   ],
   "source": [
    "%%time\n",
    "nn = kohonen(2, 5, x, 1)\n",
    "nn.train(1)"
   ]
  },
  {
   "cell_type": "code",
   "execution_count": 156,
   "metadata": {},
   "outputs": [
    {
     "name": "stdout",
     "output_type": "stream",
     "text": [
      "Wall time: 10.7 s\n"
     ]
    }
   ],
   "source": [
    "%%time\n",
    "nn = kohonen(2, 5, x, 1, theta = mexican_hat)\n",
    "nn.train(1)"
   ]
  },
  {
   "cell_type": "code",
   "execution_count": 157,
   "metadata": {},
   "outputs": [
    {
     "name": "stdout",
     "output_type": "stream",
     "text": [
      "Wall time: 11.8 s\n"
     ]
    }
   ],
   "source": [
    "%%time\n",
    "nn = kohonen(2, 5, x, 1, grid = 'hex')\n",
    "nn.train(1)"
   ]
  },
  {
   "cell_type": "code",
   "execution_count": 158,
   "metadata": {},
   "outputs": [
    {
     "name": "stdout",
     "output_type": "stream",
     "text": [
      "Wall time: 12.1 s\n"
     ]
    }
   ],
   "source": [
    "%%time\n",
    "nn = kohonen(2, 5, x, 1, theta = mexican_hat, grid = 'hex')\n",
    "nn.train(1)"
   ]
  },
  {
   "cell_type": "code",
   "execution_count": 145,
   "metadata": {},
   "outputs": [
    {
     "data": {
      "text/plain": [
       "24"
      ]
     },
     "execution_count": 145,
     "metadata": {},
     "output_type": "execute_result"
    }
   ],
   "source": [
    "max(c)"
   ]
  },
  {
   "cell_type": "code",
   "execution_count": 151,
   "metadata": {},
   "outputs": [
    {
     "data": {
      "text/plain": [
       "(42000, 784)"
      ]
     },
     "execution_count": 151,
     "metadata": {},
     "output_type": "execute_result"
    }
   ],
   "source": [
    "x = np.asarray(d.iloc[:,1:785])\n",
    "x.shape"
   ]
  },
  {
   "cell_type": "code",
   "execution_count": 146,
   "metadata": {},
   "outputs": [
    {
     "data": {
      "text/plain": [
       "0.28272541091168824"
      ]
     },
     "execution_count": 146,
     "metadata": {},
     "output_type": "execute_result"
    }
   ],
   "source": [
    "nn.set_nodes(10)\n",
    "c = nn.classification()\n",
    "homogeneity_score(d['label'].iloc[0:500], c)"
   ]
  },
  {
   "cell_type": "code",
   "execution_count": 149,
   "metadata": {},
   "outputs": [
    {
     "data": {
      "text/plain": [
       "{0, 1, 2, 3, 4, 5, 6, 7, 8, 9}"
      ]
     },
     "execution_count": 149,
     "metadata": {},
     "output_type": "execute_result"
    }
   ],
   "source": [
    "set(c)"
   ]
  },
  {
   "cell_type": "code",
   "execution_count": null,
   "metadata": {},
   "outputs": [],
   "source": []
  },
  {
   "cell_type": "code",
   "execution_count": null,
   "metadata": {},
   "outputs": [],
   "source": []
  },
  {
   "cell_type": "code",
   "execution_count": null,
   "metadata": {},
   "outputs": [],
   "source": []
  },
  {
   "cell_type": "code",
   "execution_count": 4,
   "metadata": {},
   "outputs": [
    {
     "data": {
      "text/plain": [
       "(7352, 561)"
      ]
     },
     "execution_count": 4,
     "metadata": {},
     "output_type": "execute_result"
    }
   ],
   "source": [
    "d2 = pd.read_csv('./UCI HAR Dataset/train/X_train.txt', header = None, sep=\"\\s+\")\n",
    "x2 = np.asarray(d2)\n",
    "x2.shape"
   ]
  },
  {
   "cell_type": "code",
   "execution_count": 5,
   "metadata": {},
   "outputs": [],
   "source": [
    "labels = pd.read_csv('./UCI HAR Dataset/train/y_train.txt', header = None, sep=\"\\s+\")"
   ]
  },
  {
   "cell_type": "code",
   "execution_count": 6,
   "metadata": {},
   "outputs": [
    {
     "data": {
      "text/plain": [
       "6"
      ]
     },
     "execution_count": 6,
     "metadata": {},
     "output_type": "execute_result"
    }
   ],
   "source": [
    "labels = np.asarray(labels[0])\n",
    "max(labels)"
   ]
  },
  {
   "cell_type": "code",
   "execution_count": 10,
   "metadata": {},
   "outputs": [
    {
     "name": "stdout",
     "output_type": "stream",
     "text": [
      "Wall time: 40.9 s\n"
     ]
    }
   ],
   "source": [
    "%%time\n",
    "nn = kohonen(2, 3, x2, 1, theta = mexican_hat, grid = 'hex')\n",
    "nn.train(30)"
   ]
  },
  {
   "cell_type": "code",
   "execution_count": 11,
   "metadata": {},
   "outputs": [
    {
     "data": {
      "text/plain": [
       "0.6026584180497051"
      ]
     },
     "execution_count": 11,
     "metadata": {},
     "output_type": "execute_result"
    }
   ],
   "source": [
    "c = nn.classification()\n",
    "homogeneity_score(labels, c)"
   ]
  },
  {
   "cell_type": "code",
   "execution_count": null,
   "metadata": {},
   "outputs": [],
   "source": []
  }
 ],
 "metadata": {
  "kernelspec": {
   "display_name": "Python 3",
   "language": "python",
   "name": "python3"
  },
  "language_info": {
   "codemirror_mode": {
    "name": "ipython",
    "version": 3
   },
   "file_extension": ".py",
   "mimetype": "text/x-python",
   "name": "python",
   "nbconvert_exporter": "python",
   "pygments_lexer": "ipython3",
   "version": "3.8.2"
  }
 },
 "nbformat": 4,
 "nbformat_minor": 4
}
